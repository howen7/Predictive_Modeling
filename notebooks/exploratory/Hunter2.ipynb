{
 "cells": [
  {
   "cell_type": "code",
   "execution_count": 3,
   "metadata": {},
   "outputs": [],
   "source": [
    "import pandas as pd\n",
    "import numpy as np\n",
    "\n",
    "import matplotlib.pyplot as plt\n",
    "import seaborn as sns\n",
    "\n",
    "from imblearn.pipeline import make_pipeline, Pipeline\n",
    "from sklearn.model_selection import train_test_split, GridSearchCV, cross_val_score\n",
    "from imblearn.over_sampling import SMOTE\n",
    "from sklearn.dummy import DummyClassifier\n",
    "from sklearn.metrics import confusion_matrix, f1_score, classification_report, plot_confusion_matrix, make_scorer, recall_score, accuracy_score, precision_score\n",
    "from sklearn.preprocessing import OneHotEncoder, StandardScaler, MinMaxScaler\n",
    "from sklearn.linear_model import LogisticRegression\n",
    "from sklearn.ensemble import RandomForestClassifier, AdaBoostClassifier\n",
    "from sklearn.neighbors import KNeighborsClassifier\n",
    "from sklearn.ensemble import StackingClassifier\n",
    "from sklearn.svm import SVC\n",
    "from sklearn.compose import ColumnTransformer, make_column_transformer\n",
    "from xgboost import XGBClassifier \n",
    "import xgboost as xgb\n",
    "\n",
    "import scipy\n",
    "\n",
    "\n",
    "%load_ext autoreload\n",
    "%autoreload 2\n",
    "\n",
    "import os\n",
    "import sys\n",
    "module_path = os.path.abspath(os.path.join(os.pardir, os.pardir))\n",
    "if module_path not in sys.path:\n",
    "    sys.path.append(module_path)\n"
   ]
  },
  {
   "cell_type": "code",
   "execution_count": 2,
   "metadata": {},
   "outputs": [
    {
     "name": "stdout",
     "output_type": "stream",
     "text": [
      "Updating Homebrew...\n",
      "\u001b[34m==>\u001b[0m \u001b[1mAuto-updated Homebrew!\u001b[0m\n",
      "Updated 4 taps (homebrew/cask-versions, homebrew/core, homebrew/cask and homebrew/services).\n",
      "\u001b[34m==>\u001b[0m \u001b[1mNew Formulae\u001b[0m\n",
      "ghc@9                      name-that-hash             saml2aws\n",
      "kubergrunt                 pcalc                      waffle\n",
      "\u001b[34m==>\u001b[0m \u001b[1mUpdated Formulae\u001b[0m\n",
      "Updated 699 formulae.\n",
      "\u001b[34m==>\u001b[0m \u001b[1mRenamed Formulae\u001b[0m\n",
      "ht-rust -> xh\n",
      "\u001b[34m==>\u001b[0m \u001b[1mNew Casks\u001b[0m\n",
      "audiogridder-plugin        fawkes                     lightform\n",
      "audiogridder-server        forticlient-vpn            opgg\n",
      "bleunlock                  google-drive               textbuddy\n",
      "cinco                      imdone                     xournal-plus-plus\n",
      "curseforge                 kiwi-for-gmail\n",
      "\u001b[34m==>\u001b[0m \u001b[1mUpdated Casks\u001b[0m\n",
      "Updated 269 casks.\n",
      "\u001b[34m==>\u001b[0m \u001b[1mDeleted Casks\u001b[0m\n",
      "racket-cs                                yyets\n",
      "\n",
      "\u001b[34m==>\u001b[0m \u001b[1mDownloading https://homebrew.bintray.com/bottles/libomp-11.0.1.big_sur.bottl\u001b[0m\n",
      "\u001b[34m==>\u001b[0m \u001b[1mDownloading from https://d29vzk4ow07wi7.cloudfront.net/4988dc1428616d4d116cd\u001b[0m\n",
      "######################################################################## 100.0%\n",
      "\u001b[34m==>\u001b[0m \u001b[1mPouring libomp-11.0.1.big_sur.bottle.tar.gz\u001b[0m\n",
      "🍺  /usr/local/Cellar/libomp/11.0.1: 9 files, 1.4MB\n"
     ]
    }
   ],
   "source": [
    "# !brew install libomp"
   ]
  },
  {
   "cell_type": "code",
   "execution_count": 4,
   "metadata": {},
   "outputs": [],
   "source": [
    "y = pd.read_csv('../../src/data/y_dataframe.csv', index_col= 0, squeeze= True)\n",
    "X = pd.read_csv('../../src/data/X_dataframe.csv', index_col= 0)"
   ]
  },
  {
   "cell_type": "code",
   "execution_count": 5,
   "metadata": {},
   "outputs": [],
   "source": [
    "# From previous notebook it was discovered the total minutes was directly correlated to the charge so we dropped all the minute columns. \n",
    "# Also state didnt seem to play a huge impportance so we took it out to reduce calculation time. "
   ]
  },
  {
   "cell_type": "code",
   "execution_count": 6,
   "metadata": {},
   "outputs": [],
   "source": [
    "X.drop(columns=['total day minutes', 'total eve minutes', 'total night minutes', 'total intl minutes', 'state'], axis=1, inplace= True)"
   ]
  },
  {
   "cell_type": "code",
   "execution_count": 7,
   "metadata": {},
   "outputs": [],
   "source": [
    "X_train, X_test, y_train, y_test = train_test_split(X,y, random_state=42, test_size = .2)\n",
    "X_t, X_val, y_t, y_val = train_test_split(X_train,y_train, random_state=42, test_size = .2)"
   ]
  },
  {
   "cell_type": "code",
   "execution_count": 8,
   "metadata": {},
   "outputs": [],
   "source": [
    "numerical_features = X_t.select_dtypes(exclude='object').columns\n",
    "categorical_features = X_t.select_dtypes(include='object').columns"
   ]
  },
  {
   "cell_type": "code",
   "execution_count": 31,
   "metadata": {},
   "outputs": [],
   "source": [
    "def model_output(model, X_t, X_val, y_t, y_val):\n",
    "    '''Can be used on final test and train validation''\n",
    "    input:   model, X_t, X_val, y_t, y_val\n",
    "    or \n",
    "    input:   model, X_train, X_test, y_train, y_test\n",
    "    '''\n",
    "    \n",
    "    model.fit(X_t, y_t)\n",
    "    y_hat = model.predict(X_val)\n",
    "    \n",
    "    print(f'''The Cross Val accuracy is: {cross_val_score(estimator = model, X = X_t,y = y_t, cv = 3, scoring = 'accuracy').mean()}''')\n",
    "    print(f'''The Cross Val recall is: {cross_val_score(estimator = model, X = X_t,y = y_t, cv = 3, scoring = 'recall').mean()}''')\n",
    "    print(f'''The Cross Val precision is: {cross_val_score(estimator = model, X = X_t,y = y_t, cv = 3, scoring = 'precision').mean()}''')\n",
    "    print(f'The test Accuracy is: {accuracy_score(y_val, y_hat)}')\n",
    "    print(f'The test Recall is: {recall_score(y_val, y_hat)}')\n",
    "    print(f'The test precision is: {precision_score(y_val, y_hat)}')\n",
    "    print(confusion_matrix(y_val, y_hat))\n",
    "    print(classification_report(y_val, y_hat))\n",
    "\n",
    "        \n",
    "    return"
   ]
  },
  {
   "cell_type": "markdown",
   "metadata": {},
   "source": [
    "# Pipeline"
   ]
  },
  {
   "cell_type": "code",
   "execution_count": 10,
   "metadata": {},
   "outputs": [],
   "source": [
    "preprocess = make_column_transformer(\n",
    "    (OneHotEncoder(sparse = False, drop ='first'), categorical_features), remainder = 'passthrough')"
   ]
  },
  {
   "cell_type": "code",
   "execution_count": 11,
   "metadata": {},
   "outputs": [],
   "source": [
    "pipe_forest = Pipeline([\n",
    "    ('pp', preprocess),\n",
    "    ('ss', StandardScaler()),\n",
    "    ('sm', SMOTE(random_state= 42)),\n",
    "    ('rf', RandomForestClassifier(random_state = 42, max_depth = 5, max_features = .5, min_samples_split = 3, n_estimators = 300 ))])\n"
   ]
  },
  {
   "cell_type": "markdown",
   "metadata": {},
   "source": [
    "# Random forest model"
   ]
  },
  {
   "cell_type": "markdown",
   "metadata": {},
   "source": [
    "Baseline model"
   ]
  },
  {
   "cell_type": "code",
   "execution_count": 12,
   "metadata": {},
   "outputs": [
    {
     "data": {
      "text/plain": [
       "{'rf__max_depth': 5,\n",
       " 'rf__max_features': 0.5,\n",
       " 'rf__min_samples_split': 3,\n",
       " 'rf__n_estimators': 300}"
      ]
     },
     "execution_count": 12,
     "metadata": {},
     "output_type": "execute_result"
    }
   ],
   "source": [
    "{'rf__max_depth': 5,\n",
    " 'rf__max_features': 0.5,\n",
    " 'rf__min_samples_split': 3,\n",
    " 'rf__n_estimators': 300}"
   ]
  },
  {
   "cell_type": "code",
   "execution_count": 13,
   "metadata": {},
   "outputs": [
    {
     "data": {
      "text/plain": [
       "False    566\n",
       "True     101\n",
       "Name: churn, dtype: int64"
      ]
     },
     "execution_count": 13,
     "metadata": {},
     "output_type": "execute_result"
    }
   ],
   "source": [
    "y_test.value_counts()"
   ]
  },
  {
   "cell_type": "code",
   "execution_count": 14,
   "metadata": {},
   "outputs": [
    {
     "name": "stdout",
     "output_type": "stream",
     "text": [
      "The Cross Val accuracy is: 0.9126055189047314\n",
      "The test Accuracy is: 0.9295352323838081\n",
      "[[535  31]\n",
      " [ 16  85]]\n",
      "              precision    recall  f1-score   support\n",
      "\n",
      "       False       0.97      0.95      0.96       566\n",
      "        True       0.73      0.84      0.78       101\n",
      "\n",
      "    accuracy                           0.93       667\n",
      "   macro avg       0.85      0.89      0.87       667\n",
      "weighted avg       0.93      0.93      0.93       667\n",
      "\n"
     ]
    }
   ],
   "source": [
    "y_hat = model_output(pipe_forest, X_train, X_test, y_train, y_test)"
   ]
  },
  {
   "cell_type": "code",
   "execution_count": 15,
   "metadata": {},
   "outputs": [
    {
     "name": "stdout",
     "output_type": "stream",
     "text": [
      "The Cross Val accuracy is: 0.899170645061178\n",
      "The test Accuracy is: 0.9157303370786517\n",
      "[[422  34]\n",
      " [ 11  67]]\n",
      "              precision    recall  f1-score   support\n",
      "\n",
      "       False       0.97      0.93      0.95       456\n",
      "        True       0.66      0.86      0.75        78\n",
      "\n",
      "    accuracy                           0.92       534\n",
      "   macro avg       0.82      0.89      0.85       534\n",
      "weighted avg       0.93      0.92      0.92       534\n",
      "\n"
     ]
    }
   ],
   "source": [
    "model_output(pipe_forest, X_t, X_val, y_t, y_val)"
   ]
  },
  {
   "cell_type": "markdown",
   "metadata": {},
   "source": [
    "# Random forest with grid models"
   ]
  },
  {
   "cell_type": "code",
   "execution_count": 16,
   "metadata": {},
   "outputs": [],
   "source": [
    "grid_forest = {\n",
    "    'rf__min_samples_split': [2, 3, 5], \n",
    "    'rf__n_estimators' : [100, 300],\n",
    "    'rf__max_depth': [5, 15, 25, None],\n",
    "    'rf__max_features': ['sqrt', 'log2', 10, .5]\n",
    "}"
   ]
  },
  {
   "cell_type": "code",
   "execution_count": 17,
   "metadata": {},
   "outputs": [],
   "source": [
    "scorers_forest = {\n",
    "    'recall_score': make_scorer(recall_score),\n",
    "    'precision_score': make_scorer(precision_score),\n",
    "    'f1': make_scorer(f1_score)\n",
    "    }"
   ]
  },
  {
   "cell_type": "markdown",
   "metadata": {},
   "source": [
    "# Maximizing f1- rand forest"
   ]
  },
  {
   "cell_type": "code",
   "execution_count": 30,
   "metadata": {},
   "outputs": [
    {
     "name": "stdout",
     "output_type": "stream",
     "text": [
      "The Cross Val accuracy is: 0.9301195829453985\n",
      "The Cross Val recall is: 0.7700122953471817\n",
      "The Cross Val precision is: 0.7521618903971845\n",
      "The test Accuracy is: 0.9363295880149812\n",
      "The test Recall is: 0.8076923076923077\n",
      "The test Recall is: 0.7682926829268293\n",
      "[[437  19]\n",
      " [ 15  63]]\n",
      "              precision    recall  f1-score   support\n",
      "\n",
      "       False       0.97      0.96      0.96       456\n",
      "        True       0.77      0.81      0.79        78\n",
      "\n",
      "    accuracy                           0.94       534\n",
      "   macro avg       0.87      0.88      0.88       534\n",
      "weighted avg       0.94      0.94      0.94       534\n",
      "\n"
     ]
    }
   ],
   "source": [
    "grid_search_f1 = GridSearchCV(pipe_forest, grid_forest, scoring=scorers_forest, refit='f1',\n",
    "                           cv=3, return_train_score=True, n_jobs=-1)\n",
    "\n",
    "model_output(grid_search_f1, X_t, X_val, y_t, y_val)"
   ]
  },
  {
   "cell_type": "code",
   "execution_count": 32,
   "metadata": {},
   "outputs": [
    {
     "data": {
      "text/plain": [
       "{'rf__max_depth': 25,\n",
       " 'rf__max_features': 0.5,\n",
       " 'rf__min_samples_split': 3,\n",
       " 'rf__n_estimators': 100}"
      ]
     },
     "execution_count": 32,
     "metadata": {},
     "output_type": "execute_result"
    }
   ],
   "source": [
    "grid_search_f1.best_params_"
   ]
  },
  {
   "cell_type": "markdown",
   "metadata": {},
   "source": [
    "# Maximizing Recall- rand forest"
   ]
  },
  {
   "cell_type": "code",
   "execution_count": 33,
   "metadata": {},
   "outputs": [
    {
     "name": "stdout",
     "output_type": "stream",
     "text": [
      "The Cross Val accuracy is: 0.9015167422726703\n",
      "The Cross Val recall is: 0.7864168769818157\n",
      "The Cross Val precision is: 0.6373587288924346\n",
      "The test Accuracy is: 0.9157303370786517\n",
      "The test Recall is: 0.8589743589743589\n",
      "The test precision is: 0.6633663366336634\n",
      "[[422  34]\n",
      " [ 11  67]]\n",
      "              precision    recall  f1-score   support\n",
      "\n",
      "       False       0.97      0.93      0.95       456\n",
      "        True       0.66      0.86      0.75        78\n",
      "\n",
      "    accuracy                           0.92       534\n",
      "   macro avg       0.82      0.89      0.85       534\n",
      "weighted avg       0.93      0.92      0.92       534\n",
      "\n"
     ]
    }
   ],
   "source": [
    "grid_search_recall = GridSearchCV(pipe_forest, grid_forest, scoring=scorers_forest, refit='recall_score',\n",
    "                           cv=3, return_train_score=True, n_jobs=-1)\n",
    "\n",
    "model_output(grid_search_recall, X_t, X_val, y_t, y_val)"
   ]
  },
  {
   "cell_type": "code",
   "execution_count": 34,
   "metadata": {},
   "outputs": [
    {
     "data": {
      "text/plain": [
       "{'rf__max_depth': 5,\n",
       " 'rf__max_features': 0.5,\n",
       " 'rf__min_samples_split': 3,\n",
       " 'rf__n_estimators': 300}"
      ]
     },
     "execution_count": 34,
     "metadata": {},
     "output_type": "execute_result"
    }
   ],
   "source": [
    "grid_search_recall.best_params_"
   ]
  },
  {
   "cell_type": "code",
   "execution_count": 37,
   "metadata": {},
   "outputs": [
    {
     "name": "stdout",
     "output_type": "stream",
     "text": [
      "The Cross Val accuracy is: 0.9133554251664487\n",
      "The Cross Val recall is: 0.7985154199475065\n",
      "The Cross Val precision is: 0.6656389282156153\n",
      "The test Accuracy is: 0.9280359820089955\n",
      "The test Recall is: 0.8514851485148515\n",
      "The test precision is: 0.7226890756302521\n",
      "[[533  33]\n",
      " [ 15  86]]\n",
      "              precision    recall  f1-score   support\n",
      "\n",
      "       False       0.97      0.94      0.96       566\n",
      "        True       0.72      0.85      0.78       101\n",
      "\n",
      "    accuracy                           0.93       667\n",
      "   macro avg       0.85      0.90      0.87       667\n",
      "weighted avg       0.93      0.93      0.93       667\n",
      "\n"
     ]
    }
   ],
   "source": [
    "model_output(grid_search_recall, X_train, X_test, y_train, y_test)"
   ]
  },
  {
   "cell_type": "markdown",
   "metadata": {},
   "source": [
    "# Maximizing Precision- rand forest"
   ]
  },
  {
   "cell_type": "code",
   "execution_count": 35,
   "metadata": {},
   "outputs": [
    {
     "name": "stdout",
     "output_type": "stream",
     "text": [
      "The Cross Val accuracy is: 0.9301189226309569\n",
      "The Cross Val recall is: 0.7667119653141784\n",
      "The Cross Val precision is: 0.753428865834224\n",
      "The test Accuracy is: 0.9363295880149812\n",
      "The test Recall is: 0.8076923076923077\n",
      "The test precision is: 0.7682926829268293\n",
      "[[437  19]\n",
      " [ 15  63]]\n",
      "              precision    recall  f1-score   support\n",
      "\n",
      "       False       0.97      0.96      0.96       456\n",
      "        True       0.77      0.81      0.79        78\n",
      "\n",
      "    accuracy                           0.94       534\n",
      "   macro avg       0.87      0.88      0.88       534\n",
      "weighted avg       0.94      0.94      0.94       534\n",
      "\n"
     ]
    }
   ],
   "source": [
    "grid_search_precision = GridSearchCV(pipe_forest, grid_forest, scoring=scorers_forest, refit='precision_score',\n",
    "                           cv=3, return_train_score=True, n_jobs=-1)\n",
    "\n",
    "model_output(grid_search_precision, X_t, X_val, y_t, y_val)"
   ]
  },
  {
   "cell_type": "code",
   "execution_count": 36,
   "metadata": {},
   "outputs": [
    {
     "data": {
      "text/plain": [
       "{'rf__max_depth': 25,\n",
       " 'rf__max_features': 0.5,\n",
       " 'rf__min_samples_split': 3,\n",
       " 'rf__n_estimators': 100}"
      ]
     },
     "execution_count": 36,
     "metadata": {},
     "output_type": "execute_result"
    }
   ],
   "source": [
    "grid_search_precision.best_params_"
   ]
  },
  {
   "cell_type": "code",
   "execution_count": 358,
   "metadata": {},
   "outputs": [
    {
     "data": {
      "text/plain": [
       "<sklearn.metrics._plot.confusion_matrix.ConfusionMatrixDisplay at 0x7fc6098479d0>"
      ]
     },
     "execution_count": 358,
     "metadata": {},
     "output_type": "execute_result"
    },
    {
     "data": {
      "image/png": "[encoded data removed]",
      "text/plain": [
       "<Figure size 1080x432 with 8 Axes>"
      ]
     },
     "metadata": {
      "needs_background": "light"
     },
     "output_type": "display_data"
    }
   ],
   "source": [
    "fig, axes = plt.subplots(nrows=2, ncols=2, figsize=(15, 6))\n",
    "fig.tight_layout(pad=4.0)\n",
    "\n",
    "axes[0,0].set_title(\"Baseline Random Forest\")\n",
    "axes[1,0].set_title(\"Hyper Tuned for f1\")\n",
    "axes[0,1].set_title(\"Hyper Tuned for Recall\")\n",
    "axes[1,1].set_title(\"Hyper Tuned for Precision\")\n",
    "\n",
    "plot_confusion_matrix(pipe_forest, X_val, y_val, ax=axes[0,0], cmap=\"Blues\")\n",
    "plot_confusion_matrix(grid_search_f1, X_val, y_val, ax=axes[1,0], cmap=\"Blues\")\n",
    "plot_confusion_matrix(grid_search_recall, X_val, y_val, ax=axes[0,1], cmap=\"Blues\")\n",
    "plot_confusion_matrix(grid_search_precision, X_val, y_val, ax=axes[1,1], cmap=\"Blues\")"
   ]
  },
  {
   "cell_type": "markdown",
   "metadata": {},
   "source": [
    "Hyper Tuned for Precision seems to give the best overall results. Ideally we want our False negative as low as possible like the one hypertuned for recall."
   ]
  },
  {
   "cell_type": "code",
   "execution_count": null,
   "metadata": {},
   "outputs": [],
   "source": [
    "# comparing models"
   ]
  },
  {
   "cell_type": "code",
   "execution_count": null,
   "metadata": {},
   "outputs": [],
   "source": [
    "fig, ax = plt.subplots(figsize =(14,10))\n",
    "sns.lineplot(x = [0,1,2,3], y = [.94,.80,.78,.79])\n",
    "\n",
    "sns.lineplot(x = [0,1,2,3], y = [.94,.77,.81,.79] )\n",
    "\n",
    "sns.lineplot(x = [0,1,2,3], y = [.91,.66,.86,.76])\n",
    "\n",
    "\n",
    "plt.title('Different HyperTuned Models', fontsize = 20)\n",
    "plt.xlabel('')\n",
    "plt.ylabel('Score', fontsize = 20)\n",
    "\n",
    "ax.tick_params(labelsize = 20)\n",
    "ax.se\n",
    "ax.set_xticklabels(['Accuracy', 'Precision', 'Recall', 'F1'])\n",
    "plt.tight_layout()\n",
    "plt.legend()"
   ]
  },
  {
   "cell_type": "markdown",
   "metadata": {},
   "source": [
    "# XGBoost classifier"
   ]
  },
  {
   "cell_type": "code",
   "execution_count": null,
   "metadata": {},
   "outputs": [],
   "source": [
    "# random_state = 42, learning_rate = 0.01, max_depth = 4, n_estimators = 500  Best performance towards recall\n",
    "# random_state = 42, learning_rate = 0.05, max_depth = 20, n_estimators = 300   Best overall performance \n",
    "# random_state = 42, learning_rate = 0.01, max_depth = 4, n_estimators = 500, gamma = 0.3   towards recall"
   ]
  },
  {
   "cell_type": "code",
   "execution_count": 42,
   "metadata": {},
   "outputs": [],
   "source": [
    "pipe_xg = Pipeline([\n",
    "    ('pp', preprocess),\n",
    "    ('ss', StandardScaler()),\n",
    "    ('sm', SMOTE(random_state= 42)),\n",
    "    ('xg', XGBClassifier(random_state = 42, learning_rate = 0.01, max_depth = 4, n_estimators = 500, gamma = 0.3))])\n"
   ]
  },
  {
   "cell_type": "code",
   "execution_count": 43,
   "metadata": {},
   "outputs": [
    {
     "name": "stdout",
     "output_type": "stream",
     "text": [
      "The Cross Val accuracy is: 0.9347378874937929\n",
      "The Cross Val recall is: 0.7775180446194225\n",
      "The Cross Val precision is: 0.7693753595714381\n",
      "The test Accuracy is: 0.9490254872563718\n",
      "The test Recall is: 0.8415841584158416\n",
      "The test precision is: 0.8252427184466019\n",
      "[[548  18]\n",
      " [ 16  85]]\n",
      "              precision    recall  f1-score   support\n",
      "\n",
      "       False       0.97      0.97      0.97       566\n",
      "        True       0.83      0.84      0.83       101\n",
      "\n",
      "    accuracy                           0.95       667\n",
      "   macro avg       0.90      0.90      0.90       667\n",
      "weighted avg       0.95      0.95      0.95       667\n",
      "\n"
     ]
    }
   ],
   "source": [
    "model_output(pipe_xg, X_train, X_test, y_train, y_test)"
   ]
  },
  {
   "cell_type": "code",
   "execution_count": 18,
   "metadata": {},
   "outputs": [
    {
     "data": {
      "image/png": "[encoded data removed]",
      "text/plain": [
       "<Figure size 432x288 with 2 Axes>"
      ]
     },
     "metadata": {
      "needs_background": "light"
     },
     "output_type": "display_data"
    }
   ],
   "source": [
    "fig, ax = plt.subplots()\n",
    "\n",
    "ax.set_title('Final Model \\n Confusion Matrix')\n",
    "plot_confusion_matrix(pipe_xg, X_test, y_test, ax=ax, cmap = 'Blues', display_labels=['Stayed','Left']);\n",
    "plt.xlabel('Predicted')\n",
    "plt.ylabel('True')\n",
    "plt.savefig('../report/figures/Final_model', dpi = 300)\n"
   ]
  },
  {
   "cell_type": "code",
   "execution_count": 202,
   "metadata": {},
   "outputs": [
    {
     "name": "stdout",
     "output_type": "stream",
     "text": [
      "The Cross Val accuracy is: 0.9273020212225062\n",
      "The test Accuracy is: 0.9288389513108615\n",
      "[[433  23]\n",
      " [ 15  63]]\n",
      "              precision    recall  f1-score   support\n",
      "\n",
      "       False       0.97      0.95      0.96       456\n",
      "        True       0.73      0.81      0.77        78\n",
      "\n",
      "    accuracy                           0.93       534\n",
      "   macro avg       0.85      0.88      0.86       534\n",
      "weighted avg       0.93      0.93      0.93       534\n",
      "\n"
     ]
    }
   ],
   "source": [
    "model_output(pipe_xg, X_t, X_val, y_t, y_val)"
   ]
  },
  {
   "cell_type": "code",
   "execution_count": 20,
   "metadata": {},
   "outputs": [],
   "source": [
    "from operator import itemgetter"
   ]
  },
  {
   "cell_type": "code",
   "execution_count": 21,
   "metadata": {},
   "outputs": [],
   "source": [
    "a = preprocess.get_feature_names()"
   ]
  },
  {
   "cell_type": "code",
   "execution_count": 22,
   "metadata": {},
   "outputs": [],
   "source": [
    "b = pipe_xg.steps[3][1].feature_importances_"
   ]
  },
  {
   "cell_type": "code",
   "execution_count": 23,
   "metadata": {},
   "outputs": [
    {
     "data": {
      "text/plain": [
       "0.9999999"
      ]
     },
     "execution_count": 23,
     "metadata": {},
     "output_type": "execute_result"
    }
   ],
   "source": [
    "b.sum()"
   ]
  },
  {
   "cell_type": "code",
   "execution_count": 24,
   "metadata": {},
   "outputs": [],
   "source": [
    "c = list(zip(a,b))"
   ]
  },
  {
   "cell_type": "code",
   "execution_count": 25,
   "metadata": {},
   "outputs": [],
   "source": [
    "c = sorted(c,key=itemgetter(1), reverse = True)"
   ]
  },
  {
   "cell_type": "code",
   "execution_count": 26,
   "metadata": {},
   "outputs": [
    {
     "data": {
      "text/plain": [
       "[('onehotencoder__x0_yes', 0.20962155),\n",
       " ('customer service calls', 0.18564038),\n",
       " ('total intl calls', 0.13097413),\n",
       " ('total day charge', 0.12775207),\n",
       " ('onehotencoder__x1_yes', 0.08358827)]"
      ]
     },
     "execution_count": 26,
     "metadata": {},
     "output_type": "execute_result"
    }
   ],
   "source": [
    "c[0:5]"
   ]
  },
  {
   "cell_type": "code",
   "execution_count": 33,
   "metadata": {},
   "outputs": [
    {
     "data": {
      "image/png": "[encoded data removed]",
      "text/plain": [
       "<Figure size 432x288 with 1 Axes>"
      ]
     },
     "metadata": {
      "needs_background": "light"
     },
     "output_type": "display_data"
    }
   ],
   "source": [
    "\n",
    "list_of_names = ['International Plan', 'Customer Service Calls', 'Total day charge', 'Total international Calls', 'Voicemail Plan']\n",
    "\n",
    "forest4_hunter2_ylabel = [i[0] for i in c][:5]\n",
    "forest4_hunter2_xlabel = [i[1] for i in c][:5]\n",
    "fig, ax = plt.subplots()\n",
    "sns.barplot(forest4_hunter2_xlabel,forest4_hunter2_ylabel,orient = 'h', palette=\"Blues_d\").set_yticklabels(list_of_names)\n",
    "ax.invert_yaxis()\n",
    "plt.title('Final Model Feature Importance', fontsize = 15)\n",
    "plt.tight_layout()\n",
    "plt.savefig('../report/figures/Final_model_features', dpi = 300)"
   ]
  },
  {
   "cell_type": "code",
   "execution_count": 143,
   "metadata": {},
   "outputs": [
    {
     "data": {
      "text/plain": [
       "('pp',\n",
       " ColumnTransformer(remainder='passthrough',\n",
       "                   transformers=[('onehotencoder',\n",
       "                                  OneHotEncoder(drop='first', sparse=False),\n",
       "                                  Index(['international plan', 'voice mail plan'], dtype='object'))]))"
      ]
     },
     "execution_count": 143,
     "metadata": {},
     "output_type": "execute_result"
    }
   ],
   "source": [
    "pipe_xg.steps[0]"
   ]
  },
  {
   "cell_type": "code",
   "execution_count": 102,
   "metadata": {},
   "outputs": [
    {
     "name": "stdout",
     "output_type": "stream",
     "text": [
      "The Cross Val accuracy is: 0.9254267282079726\n",
      "The test Accuracy is: 0.9288389513108615\n",
      "[[433  23]\n",
      " [ 15  63]]\n",
      "              precision    recall  f1-score   support\n",
      "\n",
      "       False       0.97      0.95      0.96       456\n",
      "        True       0.73      0.81      0.77        78\n",
      "\n",
      "    accuracy                           0.93       534\n",
      "   macro avg       0.85      0.88      0.86       534\n",
      "weighted avg       0.93      0.93      0.93       534\n",
      "\n"
     ]
    }
   ],
   "source": [
    "model_output(pipe_xg, X_t, X_val, y_t, y_val)"
   ]
  },
  {
   "cell_type": "code",
   "execution_count": null,
   "metadata": {},
   "outputs": [],
   "source": [
    "model_output(grid_search_xg , X_train, X_test, y_train, y_test)"
   ]
  },
  {
   "cell_type": "markdown",
   "metadata": {},
   "source": [
    "# XG Grid to optimize recall"
   ]
  },
  {
   "cell_type": "code",
   "execution_count": 44,
   "metadata": {},
   "outputs": [],
   "source": [
    "xg_param = {\n",
    "    'xg__max_depth': [4,6,10,20],\n",
    "    'xg__learning_rate': [0.1, 0.01, 0.05],\n",
    "    'xg__n_estimators': [300, 500],\n",
    "    'xg__gamma': list(np.arange(0, .5, .05)),\n",
    "}\n"
   ]
  },
  {
   "cell_type": "code",
   "execution_count": null,
   "metadata": {},
   "outputs": [],
   "source": [
    "xg_param = {'xg__gamma': list(np.arange(0, .5, .05))}"
   ]
  },
  {
   "cell_type": "code",
   "execution_count": 40,
   "metadata": {},
   "outputs": [
    {
     "ename": "NameError",
     "evalue": "name 'pipe_xg' is not defined",
     "output_type": "error",
     "traceback": [
      "\u001b[0;31m---------------------------------------------------------------------------\u001b[0m",
      "\u001b[0;31mNameError\u001b[0m                                 Traceback (most recent call last)",
      "\u001b[0;32m<ipython-input-40-f35756401f35>\u001b[0m in \u001b[0;36m<module>\u001b[0;34m\u001b[0m\n\u001b[0;32m----> 1\u001b[0;31m \u001b[0mgrid_search_xg\u001b[0m \u001b[0;34m=\u001b[0m \u001b[0mGridSearchCV\u001b[0m\u001b[0;34m(\u001b[0m\u001b[0mpipe_xg\u001b[0m\u001b[0;34m,\u001b[0m \u001b[0mparam_grid\u001b[0m\u001b[0;34m=\u001b[0m \u001b[0mxg_param\u001b[0m\u001b[0;34m,\u001b[0m \u001b[0mscoring\u001b[0m \u001b[0;34m=\u001b[0m\u001b[0;34m'recall'\u001b[0m\u001b[0;34m,\u001b[0m \u001b[0mcv\u001b[0m\u001b[0;34m=\u001b[0m\u001b[0;36m3\u001b[0m\u001b[0;34m,\u001b[0m \u001b[0mn_jobs\u001b[0m\u001b[0;34m=\u001b[0m\u001b[0;34m-\u001b[0m\u001b[0;36m1\u001b[0m\u001b[0;34m)\u001b[0m\u001b[0;34m\u001b[0m\u001b[0;34m\u001b[0m\u001b[0m\n\u001b[0m",
      "\u001b[0;31mNameError\u001b[0m: name 'pipe_xg' is not defined"
     ]
    }
   ],
   "source": [
    "grid_search_xg = GridSearchCV(pipe_xg, param_grid= xg_param, scoring ='recall', cv=3, n_jobs=-1)"
   ]
  },
  {
   "cell_type": "code",
   "execution_count": null,
   "metadata": {},
   "outputs": [],
   "source": [
    "model_output(grid_search_xg , X_t, X_val, y_t, y_val)"
   ]
  },
  {
   "cell_type": "code",
   "execution_count": null,
   "metadata": {},
   "outputs": [],
   "source": [
    "model_output(grid_search_xg , X_train, X_test, y_train, y_test)"
   ]
  },
  {
   "cell_type": "markdown",
   "metadata": {},
   "source": [
    "lowest we were getting for recall was .85, but everything else suffers a lot and you get a lot more false positives. "
   ]
  },
  {
   "cell_type": "markdown",
   "metadata": {},
   "source": [
    "# XG grid to optimize f1"
   ]
  },
  {
   "cell_type": "code",
   "execution_count": 32,
   "metadata": {},
   "outputs": [],
   "source": [
    "xg_f1 = GridSearchCV(pipe_xg, param_grid= xg_param, scoring ='f1', cv=3, n_jobs=-1)"
   ]
  },
  {
   "cell_type": "code",
   "execution_count": 33,
   "metadata": {},
   "outputs": [
    {
     "name": "stdout",
     "output_type": "stream",
     "text": [
      "The Cross Val accuracy is: 0.9427817726801503\n",
      "The test Accuracy is: 0.949438202247191\n",
      "[[444  12]\n",
      " [ 15  63]]\n",
      "              precision    recall  f1-score   support\n",
      "\n",
      "       False       0.97      0.97      0.97       456\n",
      "        True       0.84      0.81      0.82        78\n",
      "\n",
      "    accuracy                           0.95       534\n",
      "   macro avg       0.90      0.89      0.90       534\n",
      "weighted avg       0.95      0.95      0.95       534\n",
      "\n"
     ]
    }
   ],
   "source": [
    "model_output(xg_f1 , X_t, X_val, y_t, y_val)"
   ]
  },
  {
   "cell_type": "code",
   "execution_count": 35,
   "metadata": {},
   "outputs": [
    {
     "data": {
      "text/plain": [
       "{'xg__gamma': 0.1,\n",
       " 'xg__learning_rate': 0.05,\n",
       " 'xg__max_depth': 20,\n",
       " 'xg__n_estimators': 300}"
      ]
     },
     "execution_count": 35,
     "metadata": {},
     "output_type": "execute_result"
    }
   ],
   "source": [
    "xg_f1.best_params_"
   ]
  },
  {
   "cell_type": "code",
   "execution_count": null,
   "metadata": {},
   "outputs": [],
   "source": []
  }
 ],
 "metadata": {
  "kernelspec": {
   "display_name": "Python 3",
   "language": "python",
   "name": "python3"
  },
  "language_info": {
   "codemirror_mode": {
    "name": "ipython",
    "version": 3
   },
   "file_extension": ".py",
   "mimetype": "text/x-python",
   "name": "python",
   "nbconvert_exporter": "python",
   "pygments_lexer": "ipython3",
   "version": "3.8.3"
  }
 },
 "nbformat": 4,
 "nbformat_minor": 4
}
